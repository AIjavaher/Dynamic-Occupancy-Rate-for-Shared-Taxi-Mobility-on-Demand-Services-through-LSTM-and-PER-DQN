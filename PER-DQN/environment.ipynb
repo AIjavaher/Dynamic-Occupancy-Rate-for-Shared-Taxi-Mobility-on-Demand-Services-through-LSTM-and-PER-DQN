{
 "cells": [
  {
   "cell_type": "markdown",
   "metadata": {},
   "source": [
    "Here is the code wich trains taxi to pick up passengers and drop off them in their destination."
   ]
  },
  {
   "cell_type": "markdown",
   "metadata": {},
   "source": [
    "the environment is 63 zones of manhattan. for the sake of simplicity, we ignored using zone 194, 202, 105, 104, and 109."
   ]
  },
  {
   "cell_type": "markdown",
   "metadata": {},
   "source": [
    "<img src=\"taxi_zone_map_manhattan.jpg\" width=\"350\" height=\"500\">"
   ]
  },
  {
   "cell_type": "markdown",
   "metadata": {},
   "source": [
    "Also, we grided the environment. into 0.009 degrees longitude * 0.0068 degrees latitude"
   ]
  },
  {
   "cell_type": "markdown",
   "metadata": {},
   "source": [
    "<img src=\"grided_env.png\" width=\"350\" height=\"500\">"
   ]
  },
  {
   "cell_type": "markdown",
   "metadata": {},
   "source": [
    "Zones with touching boundaries are considered as the neighbours of a zone. which is defined in manhattan_neighbour.xlsx"
   ]
  },
  {
   "cell_type": "markdown",
   "metadata": {},
   "source": [
    "Besides the center of eachzone is the geometric center of each polygon which is defined in manhattan_center.xlsx"
   ]
  },
  {
   "cell_type": "code",
   "execution_count": null,
   "metadata": {},
   "outputs": [],
   "source": []
  }
 ],
 "metadata": {
  "kernelspec": {
   "display_name": "Python 3",
   "language": "python",
   "name": "python3"
  },
  "language_info": {
   "codemirror_mode": {
    "name": "ipython",
    "version": 3
   },
   "file_extension": ".py",
   "mimetype": "text/x-python",
   "name": "python",
   "nbconvert_exporter": "python",
   "pygments_lexer": "ipython3",
   "version": "3.6.4"
  }
 },
 "nbformat": 4,
 "nbformat_minor": 2
}
